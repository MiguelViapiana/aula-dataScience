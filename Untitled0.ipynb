{
  "nbformat": 4,
  "nbformat_minor": 0,
  "metadata": {
    "colab": {
      "provenance": [],
      "authorship_tag": "ABX9TyMQijl0oNo0/wdawA9h1nsK",
      "include_colab_link": true
    },
    "kernelspec": {
      "name": "python3",
      "display_name": "Python 3"
    },
    "language_info": {
      "name": "python"
    }
  },
  "cells": [
    {
      "cell_type": "markdown",
      "metadata": {
        "id": "view-in-github",
        "colab_type": "text"
      },
      "source": [
        "<a href=\"https://colab.research.google.com/github/MiguelViapiana/aula-dataScience/blob/main/Untitled0.ipynb\" target=\"_parent\"><img src=\"https://colab.research.google.com/assets/colab-badge.svg\" alt=\"Open In Colab\"/></a>"
      ]
    },
    {
      "cell_type": "markdown",
      "source": [
        "Teste import biblioteca numpy"
      ],
      "metadata": {
        "id": "zfqAqJ2zEkuS"
      }
    },
    {
      "cell_type": "code",
      "execution_count": 1,
      "metadata": {
        "id": "GXfOzveTEHe_"
      },
      "outputs": [],
      "source": [
        "import numpy"
      ]
    },
    {
      "cell_type": "markdown",
      "source": [],
      "metadata": {
        "id": "th3VyQ7yEsMa"
      }
    },
    {
      "cell_type": "code",
      "source": [
        "import numpy\n",
        "\n",
        "print(\"Criando uma matriz a partir de uma lista: \")\n",
        "l = [[3, 4, 5], [6, 7, 8], [9, 10, 1]]\n",
        "z = numpy.matrix(l)\n",
        "print(z)\n",
        "\n",
        "print('Transposta da matriz: ')\n",
        "print(z.T)\n",
        "\n",
        "print('Inversa ma matriz: ')\n",
        "print(z.I)"
      ],
      "metadata": {
        "colab": {
          "base_uri": "https://localhost:8080/"
        },
        "id": "WMuHe_1-Ehdq",
        "outputId": "0c3c3da5-7382-41b8-dc97-dd906e98eeeb"
      },
      "execution_count": 2,
      "outputs": [
        {
          "output_type": "stream",
          "name": "stdout",
          "text": [
            "Criando uma matriz a partir de uma lista: \n",
            "[[ 3  4  5]\n",
            " [ 6  7  8]\n",
            " [ 9 10  1]]\n",
            "Transposta da matriz: \n",
            "[[ 3  6  9]\n",
            " [ 4  7 10]\n",
            " [ 5  8  1]]\n",
            "Inversa ma matriz: \n",
            "[[-2.43333333  1.53333333 -0.1       ]\n",
            " [ 2.2        -1.4         0.2       ]\n",
            " [-0.1         0.2        -0.1       ]]\n"
          ]
        }
      ]
    },
    {
      "cell_type": "code",
      "source": [
        "import matplotlib\n",
        "\n",
        "from pylab import *\n",
        "from numpy import *\n",
        "from scipy import *\n",
        "\n",
        "from scipy import stats\n",
        "\n",
        "\n",
        "X = stats.poisson(3.5)\n",
        "\n",
        "n = arange(0, 15)\n",
        "fig, axes = subplots(3, 1, sharex=True)\n",
        "\n",
        "axes[0].step(n, X.pmf(n))\n",
        "axes[1].step(n, X.cdf(n))\n",
        "\n",
        "axes[2].hist(X.rvs(size=1000))\n",
        "\n",
        "show()"
      ],
      "metadata": {
        "colab": {
          "base_uri": "https://localhost:8080/",
          "height": 430
        },
        "id": "CHoP_oT1RbBz",
        "outputId": "3ff417af-a007-4737-97e6-7440aa80ff61"
      },
      "execution_count": 8,
      "outputs": [
        {
          "output_type": "display_data",
          "data": {
            "text/plain": [
              "<Figure size 640x480 with 3 Axes>"
            ],
            "image/png": "[encoded data removed]"
          },
          "metadata": {}
        }
      ]
    }
  ]
}